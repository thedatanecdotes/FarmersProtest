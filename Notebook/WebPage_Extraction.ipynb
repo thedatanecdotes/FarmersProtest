{
 "cells": [
  {
   "cell_type": "code",
   "execution_count": 1,
   "metadata": {
    "colab": {
     "base_uri": "https://localhost:8080/"
    },
    "id": "Emnred21b07J",
    "outputId": "bbdb0e56-72a5-4cfd-f05a-062ad2b4c7b0"
   },
   "outputs": [
    {
     "name": "stdout",
     "output_type": "stream",
     "text": [
      "Requirement already satisfied: google in /usr/local/lib/python3.6/dist-packages (2.0.3)\n",
      "Requirement already satisfied: beautifulsoup4 in /usr/local/lib/python3.6/dist-packages (from google) (4.6.3)\n",
      "Requirement already satisfied: transformers in /usr/local/lib/python3.6/dist-packages (4.1.1)\n",
      "Requirement already satisfied: regex!=2019.12.17 in /usr/local/lib/python3.6/dist-packages (from transformers) (2019.12.20)\n",
      "Requirement already satisfied: tqdm>=4.27 in /usr/local/lib/python3.6/dist-packages (from transformers) (4.41.1)\n",
      "Requirement already satisfied: packaging in /usr/local/lib/python3.6/dist-packages (from transformers) (20.8)\n",
      "Requirement already satisfied: dataclasses; python_version < \"3.7\" in /usr/local/lib/python3.6/dist-packages (from transformers) (0.8)\n",
      "Requirement already satisfied: requests in /usr/local/lib/python3.6/dist-packages (from transformers) (2.23.0)\n",
      "Requirement already satisfied: tokenizers==0.9.4 in /usr/local/lib/python3.6/dist-packages (from transformers) (0.9.4)\n",
      "Requirement already satisfied: sacremoses in /usr/local/lib/python3.6/dist-packages (from transformers) (0.0.43)\n",
      "Requirement already satisfied: filelock in /usr/local/lib/python3.6/dist-packages (from transformers) (3.0.12)\n",
      "Requirement already satisfied: numpy in /usr/local/lib/python3.6/dist-packages (from transformers) (1.19.4)\n",
      "Requirement already satisfied: pyparsing>=2.0.2 in /usr/local/lib/python3.6/dist-packages (from packaging->transformers) (2.4.7)\n",
      "Requirement already satisfied: idna<3,>=2.5 in /usr/local/lib/python3.6/dist-packages (from requests->transformers) (2.10)\n",
      "Requirement already satisfied: urllib3!=1.25.0,!=1.25.1,<1.26,>=1.21.1 in /usr/local/lib/python3.6/dist-packages (from requests->transformers) (1.24.3)\n",
      "Requirement already satisfied: certifi>=2017.4.17 in /usr/local/lib/python3.6/dist-packages (from requests->transformers) (2020.12.5)\n",
      "Requirement already satisfied: chardet<4,>=3.0.2 in /usr/local/lib/python3.6/dist-packages (from requests->transformers) (3.0.4)\n",
      "Requirement already satisfied: six in /usr/local/lib/python3.6/dist-packages (from sacremoses->transformers) (1.15.0)\n",
      "Requirement already satisfied: joblib in /usr/local/lib/python3.6/dist-packages (from sacremoses->transformers) (1.0.0)\n",
      "Requirement already satisfied: click in /usr/local/lib/python3.6/dist-packages (from sacremoses->transformers) (7.1.2)\n",
      "Requirement already satisfied: bert-extractive-summarizer in /usr/local/lib/python3.6/dist-packages (0.6.1)\n",
      "Requirement already satisfied: scikit-learn in /usr/local/lib/python3.6/dist-packages (from bert-extractive-summarizer) (0.22.2.post1)\n",
      "Requirement already satisfied: spacy in /usr/local/lib/python3.6/dist-packages (from bert-extractive-summarizer) (2.2.4)\n",
      "Requirement already satisfied: transformers in /usr/local/lib/python3.6/dist-packages (from bert-extractive-summarizer) (4.1.1)\n",
      "Requirement already satisfied: scipy>=0.17.0 in /usr/local/lib/python3.6/dist-packages (from scikit-learn->bert-extractive-summarizer) (1.4.1)\n",
      "Requirement already satisfied: numpy>=1.11.0 in /usr/local/lib/python3.6/dist-packages (from scikit-learn->bert-extractive-summarizer) (1.19.4)\n",
      "Requirement already satisfied: joblib>=0.11 in /usr/local/lib/python3.6/dist-packages (from scikit-learn->bert-extractive-summarizer) (1.0.0)\n",
      "Requirement already satisfied: tqdm<5.0.0,>=4.38.0 in /usr/local/lib/python3.6/dist-packages (from spacy->bert-extractive-summarizer) (4.41.1)\n",
      "Requirement already satisfied: murmurhash<1.1.0,>=0.28.0 in /usr/local/lib/python3.6/dist-packages (from spacy->bert-extractive-summarizer) (1.0.5)\n",
      "Requirement already satisfied: setuptools in /usr/local/lib/python3.6/dist-packages (from spacy->bert-extractive-summarizer) (51.0.0)\n",
      "Requirement already satisfied: plac<1.2.0,>=0.9.6 in /usr/local/lib/python3.6/dist-packages (from spacy->bert-extractive-summarizer) (1.1.3)\n",
      "Requirement already satisfied: catalogue<1.1.0,>=0.0.7 in /usr/local/lib/python3.6/dist-packages (from spacy->bert-extractive-summarizer) (1.0.0)\n",
      "Requirement already satisfied: cymem<2.1.0,>=2.0.2 in /usr/local/lib/python3.6/dist-packages (from spacy->bert-extractive-summarizer) (2.0.5)\n",
      "Requirement already satisfied: preshed<3.1.0,>=3.0.2 in /usr/local/lib/python3.6/dist-packages (from spacy->bert-extractive-summarizer) (3.0.5)\n",
      "Requirement already satisfied: blis<0.5.0,>=0.4.0 in /usr/local/lib/python3.6/dist-packages (from spacy->bert-extractive-summarizer) (0.4.1)\n",
      "Requirement already satisfied: requests<3.0.0,>=2.13.0 in /usr/local/lib/python3.6/dist-packages (from spacy->bert-extractive-summarizer) (2.23.0)\n",
      "Requirement already satisfied: srsly<1.1.0,>=1.0.2 in /usr/local/lib/python3.6/dist-packages (from spacy->bert-extractive-summarizer) (1.0.5)\n",
      "Requirement already satisfied: wasabi<1.1.0,>=0.4.0 in /usr/local/lib/python3.6/dist-packages (from spacy->bert-extractive-summarizer) (0.8.0)\n",
      "Requirement already satisfied: thinc==7.4.0 in /usr/local/lib/python3.6/dist-packages (from spacy->bert-extractive-summarizer) (7.4.0)\n",
      "Requirement already satisfied: regex!=2019.12.17 in /usr/local/lib/python3.6/dist-packages (from transformers->bert-extractive-summarizer) (2019.12.20)\n",
      "Requirement already satisfied: filelock in /usr/local/lib/python3.6/dist-packages (from transformers->bert-extractive-summarizer) (3.0.12)\n",
      "Requirement already satisfied: dataclasses; python_version < \"3.7\" in /usr/local/lib/python3.6/dist-packages (from transformers->bert-extractive-summarizer) (0.8)\n",
      "Requirement already satisfied: packaging in /usr/local/lib/python3.6/dist-packages (from transformers->bert-extractive-summarizer) (20.8)\n",
      "Requirement already satisfied: tokenizers==0.9.4 in /usr/local/lib/python3.6/dist-packages (from transformers->bert-extractive-summarizer) (0.9.4)\n",
      "Requirement already satisfied: sacremoses in /usr/local/lib/python3.6/dist-packages (from transformers->bert-extractive-summarizer) (0.0.43)\n",
      "Requirement already satisfied: importlib-metadata>=0.20; python_version < \"3.8\" in /usr/local/lib/python3.6/dist-packages (from catalogue<1.1.0,>=0.0.7->spacy->bert-extractive-summarizer) (3.3.0)\n",
      "Requirement already satisfied: urllib3!=1.25.0,!=1.25.1,<1.26,>=1.21.1 in /usr/local/lib/python3.6/dist-packages (from requests<3.0.0,>=2.13.0->spacy->bert-extractive-summarizer) (1.24.3)\n",
      "Requirement already satisfied: chardet<4,>=3.0.2 in /usr/local/lib/python3.6/dist-packages (from requests<3.0.0,>=2.13.0->spacy->bert-extractive-summarizer) (3.0.4)\n",
      "Requirement already satisfied: idna<3,>=2.5 in /usr/local/lib/python3.6/dist-packages (from requests<3.0.0,>=2.13.0->spacy->bert-extractive-summarizer) (2.10)\n",
      "Requirement already satisfied: certifi>=2017.4.17 in /usr/local/lib/python3.6/dist-packages (from requests<3.0.0,>=2.13.0->spacy->bert-extractive-summarizer) (2020.12.5)\n",
      "Requirement already satisfied: pyparsing>=2.0.2 in /usr/local/lib/python3.6/dist-packages (from packaging->transformers->bert-extractive-summarizer) (2.4.7)\n",
      "Requirement already satisfied: six in /usr/local/lib/python3.6/dist-packages (from sacremoses->transformers->bert-extractive-summarizer) (1.15.0)\n",
      "Requirement already satisfied: click in /usr/local/lib/python3.6/dist-packages (from sacremoses->transformers->bert-extractive-summarizer) (7.1.2)\n",
      "Requirement already satisfied: zipp>=0.5 in /usr/local/lib/python3.6/dist-packages (from importlib-metadata>=0.20; python_version < \"3.8\"->catalogue<1.1.0,>=0.0.7->spacy->bert-extractive-summarizer) (3.4.0)\n",
      "Requirement already satisfied: typing-extensions>=3.6.4; python_version < \"3.8\" in /usr/local/lib/python3.6/dist-packages (from importlib-metadata>=0.20; python_version < \"3.8\"->catalogue<1.1.0,>=0.0.7->spacy->bert-extractive-summarizer) (3.7.4.3)\n",
      "Requirement already satisfied: newspaper3k in /usr/local/lib/python3.6/dist-packages (0.2.8)\n",
      "Requirement already satisfied: nltk>=3.2.1 in /usr/local/lib/python3.6/dist-packages (from newspaper3k) (3.2.5)\n",
      "Requirement already satisfied: requests>=2.10.0 in /usr/local/lib/python3.6/dist-packages (from newspaper3k) (2.23.0)\n",
      "Requirement already satisfied: cssselect>=0.9.2 in /usr/local/lib/python3.6/dist-packages (from newspaper3k) (1.1.0)\n",
      "Requirement already satisfied: tinysegmenter==0.3 in /usr/local/lib/python3.6/dist-packages (from newspaper3k) (0.3)\n",
      "Requirement already satisfied: feedfinder2>=0.0.4 in /usr/local/lib/python3.6/dist-packages (from newspaper3k) (0.0.4)\n",
      "Requirement already satisfied: PyYAML>=3.11 in /usr/local/lib/python3.6/dist-packages (from newspaper3k) (3.13)\n",
      "Requirement already satisfied: feedparser>=5.2.1 in /usr/local/lib/python3.6/dist-packages (from newspaper3k) (6.0.2)\n",
      "Requirement already satisfied: tldextract>=2.0.1 in /usr/local/lib/python3.6/dist-packages (from newspaper3k) (3.1.0)\n",
      "Requirement already satisfied: beautifulsoup4>=4.4.1 in /usr/local/lib/python3.6/dist-packages (from newspaper3k) (4.6.3)\n",
      "Requirement already satisfied: jieba3k>=0.35.1 in /usr/local/lib/python3.6/dist-packages (from newspaper3k) (0.35.1)\n",
      "Requirement already satisfied: Pillow>=3.3.0 in /usr/local/lib/python3.6/dist-packages (from newspaper3k) (7.0.0)\n",
      "Requirement already satisfied: lxml>=3.6.0 in /usr/local/lib/python3.6/dist-packages (from newspaper3k) (4.2.6)\n",
      "Requirement already satisfied: python-dateutil>=2.5.3 in /usr/local/lib/python3.6/dist-packages (from newspaper3k) (2.8.1)\n",
      "Requirement already satisfied: six in /usr/local/lib/python3.6/dist-packages (from nltk>=3.2.1->newspaper3k) (1.15.0)\n",
      "Requirement already satisfied: idna<3,>=2.5 in /usr/local/lib/python3.6/dist-packages (from requests>=2.10.0->newspaper3k) (2.10)\n",
      "Requirement already satisfied: chardet<4,>=3.0.2 in /usr/local/lib/python3.6/dist-packages (from requests>=2.10.0->newspaper3k) (3.0.4)\n",
      "Requirement already satisfied: certifi>=2017.4.17 in /usr/local/lib/python3.6/dist-packages (from requests>=2.10.0->newspaper3k) (2020.12.5)\n",
      "Requirement already satisfied: urllib3!=1.25.0,!=1.25.1,<1.26,>=1.21.1 in /usr/local/lib/python3.6/dist-packages (from requests>=2.10.0->newspaper3k) (1.24.3)\n",
      "Requirement already satisfied: sgmllib3k in /usr/local/lib/python3.6/dist-packages (from feedparser>=5.2.1->newspaper3k) (1.0.0)\n",
      "Requirement already satisfied: filelock>=3.0.8 in /usr/local/lib/python3.6/dist-packages (from tldextract>=2.0.1->newspaper3k) (3.0.12)\n",
      "Requirement already satisfied: requests-file>=1.4 in /usr/local/lib/python3.6/dist-packages (from tldextract>=2.0.1->newspaper3k) (1.5.1)\n"
     ]
    }
   ],
   "source": [
    "!pip install google\n",
    "!pip install transformers\n",
    "!pip install bert-extractive-summarizer\n",
    "!pip install newspaper3k"
   ]
  },
  {
   "cell_type": "code",
   "execution_count": 2,
   "metadata": {
    "colab": {
     "base_uri": "https://localhost:8080/"
    },
    "id": "XAM7TkwgcBBo",
    "outputId": "5aea1ce1-0c37-42c6-96c2-1c0bfd3c34dc"
   },
   "outputs": [
    {
     "name": "stderr",
     "output_type": "stream",
     "text": [
      "/usr/local/lib/python3.6/dist-packages/transformers/models/auto/modeling_tf_auto.py:776: FutureWarning: The class `TFAutoModelWithLMHead` is deprecated and will be removed in a future version. Please use `TFAutoModelForCausalLM` for causal language models, `TFAutoModelForMaskedLM` for masked language models and `TFAutoModelForSeq2SeqLM` for encoder-decoder models.\n",
      "  FutureWarning,\n",
      "All model checkpoint layers were used when initializing TFT5ForConditionalGeneration.\n",
      "\n",
      "All the layers of TFT5ForConditionalGeneration were initialized from the model checkpoint at t5-base.\n",
      "If your task is similar to the task the model of the checkpoint was trained on, you can already use TFT5ForConditionalGeneration for predictions without further training.\n"
     ]
    }
   ],
   "source": [
    "from newspaper import fulltext\n",
    "from summarizer import Summarizer\n",
    "from googlesearch import search \n",
    "from transformers import *\n",
    "import requests\n",
    "sentiment = pipeline('sentiment-analysis')\n",
    "abst = TFAutoModelWithLMHead.from_pretrained(\"t5-base\")\n",
    "tokenizer = AutoTokenizer.from_pretrained(\"t5-base\")"
   ]
  },
  {
   "cell_type": "code",
   "execution_count": 3,
   "metadata": {
    "colab": {
     "base_uri": "https://localhost:8080/",
     "height": 106
    },
    "id": "LLfqKiUnp7hY",
    "outputId": "1cbb803d-4606-4d41-e49c-8fad509bc657"
   },
   "outputs": [
    {
     "data": {
      "application/vnd.google.colaboratory.intrinsic+json": {
       "type": "string"
      },
      "text/plain": [
       "'NLP Models have shown tremendous advancements in syntactic, semantic and linguistic knowledge for downstream tasks. However, that raises an interesting research question — is it possible for them to go beyond pattern recognition and apply common sense for word-sense disambiguation?Thus, to identify if BERT, a large pre-trained NLP model developed by Google, can solve common sense tasks, researchers took a closer look. The researchers from Westlake University and Fudan University, in collaboration with Microsoft Research Asia, discovered how the model computes the structured, common sense knowledge for downstream NLP tasks.According to the researchers, it has been a long-standing debate as to whether pre-trained language models can solve tasks leveraging only a few shallow clues and their common sense of knowledge. To figure that out, researchers used a CommonsenseQA dataset for BERT to solve multiple-choice problems.In this research, the analysts used CONCEPTNET focusing on attention heads for measuring the common sense knowledge in BERT.Also Read: How I Used BERT to Analyse Twitter DataBERT Model Used For CommonSenseQATo facilitate the process, the researchers chose the multiple-choice question answering dataset, which has been built on CONCEPTNET knowledge graph — CommonSenseQA. This dataset is known for comprising a broad set of triples, of the relation pair — source concept, relation, target concept, considering the concept is ‘Bird’, and the reaction type is ‘at location.’Case in point — with one question and five answers (as shown in the figure above) the model would be asked to select one of the answers as an accurate output. To solve this, conventionally the NLP models would score each of the answers based on sentence-level hidden vector, and the one with the highest score would be the output.Subscribe to our NewsletterGet the latest updates and relevant offers by sharing your email.However, to examine the presence of common sense in BERT, the researchers examined the common sense link between the question and the answer, which is then manually annoyed in the provided data set.The researchers termed the source concept as ‘question concept’ and the target concept as the ‘answer concept.’ With each question [q], there are five answers [a1 … a5], the researchers then linked the question with each response to obtain five concatenated sequences [s1 … s5], respectively.BERT Architecture.Further, researchers used special symbols in each of the sentences — [CLS] in the beginning; [SEP] in between question and answer, and in the end. With BERT having a stacked Transformer layer to codify each sentence and the last layer of the [CLS] token is then used for linear classification and the answer with the highest score is chosen as the accurate output.Also Read: How Syntactic Biases Help BERT To Achieve Better Language UnderstandingDoes BERT Contain Structured Commonsense Knowledge?To facilitate the analysis, the researchers assessed the common sense links using attention weight and respective attributing score. Attention weights are significant while producing next layer representation, but it becomes insufficient to identify the behaviour of the attention head by disregarding the value of the hidden vector. And that’s why researchers added the supplement of attribution scores to interpret the contribution of each input in backpropagation. Both of the values allowed the researchers to understand the common sense link in BERT better.Firstly, the researchers conducted a set of experiments to figure out if BERT can actually capture the common sense knowledge. According to the paper, it can only be determined “if the link weight from the answer accepts the question concept if higher than the answer concept to other words of the question.”Secondly, to evaluate link weights, the researchers calculated the most associated word with maximum link weights for each of the attention heads in the layers. For this, average accuracy among all attention heads was measured as well as the accuracy of the most accurate head.The figure shows the average and maximum accuracy of the most associated word of BERT for different common-sense relations.Concludingly, if the accuracy of most associated words significantly outstrips the random baseline, it indicates that “relevant question concept plays a significant role in BERT encoding without fine-tuning.” But with fine-tuning when BERT-FT surpasses BERT, it demonstrates that with supervised learning, common sense knowledge can be enhanced in BERT.Also Read: How To Build A BERT Classifier Model With TensorFlow 2.0Wrapping UpPost qualitative and qualitative analysis to understand how the large NLP model, BERT, solves CommonSenseQA tasks. The results denoted that BERT indeed encodes structured commonsense knowledge, and is also able to use the same for certain degrees of downstream NLP tasks. Further researchers have noted that fine-tuning BERT can help enhance this knowledge on higher layers of functions. With the release of the paper, the researchers aim to encourage further leveraging of BERT’s underlying mechanisms for real-world innovations.Read the whole paper here.If you loved this story, do join our Telegram Community.Also, you can write for us and be one of the 500+ experts who have contributed stories at AIM. Share your nominations here.'"
      ]
     },
     "execution_count": 3,
     "metadata": {
      "tags": []
     },
     "output_type": "execute_result"
    }
   ],
   "source": [
    "import re\n",
    "article_url=\"https://analyticsindiamag.com/is-common-sense-common-in-nlp-models/ \"\n",
    "article = fulltext(requests.get(article_url).text)\n",
    "article=''.join([i for i in article.splitlines() if i])\n",
    "article"
   ]
  },
  {
   "cell_type": "code",
   "execution_count": 9,
   "metadata": {
    "id": "LmJjz6vmdd2-"
   },
   "outputs": [],
   "source": [
    "def get_summary(article_url,choice):\n",
    "  article = fulltext(requests.get(article_url).text)\n",
    "  article=''.join([i for i in article.splitlines() if i])\n",
    "  if (choice):\n",
    "    model = Summarizer()\n",
    "    result = model(article, min_length=40)\n",
    "    summary = ''.join(result)  \n",
    "  else:#0 will return this\n",
    "    inputs = tokenizer.encode(\"summarize: \" + article, return_tensors=\"tf\", max_length=512,truncation=True)\n",
    "    summary = abst.generate(inputs, max_length=250, min_length=40, length_penalty=1.5, num_beams=4, early_stopping=True)\n",
    "    summary = tokenizer.decode(summary[0])\n",
    "  return summary"
   ]
  },
  {
   "cell_type": "code",
   "execution_count": 4,
   "metadata": {
    "colab": {
     "base_uri": "https://localhost:8080/"
    },
    "id": "ogTrJlBEcW0p",
    "outputId": "c6560cad-d3ee-42a8-d3ac-20d315487f1f"
   },
   "outputs": [
    {
     "name": "stdout",
     "output_type": "stream",
     "text": [
      "9\n"
     ]
    }
   ],
   "source": [
    "def get_url(query):\n",
    "  urls = []\n",
    "  for j in search(query, tld=\"com\", num=10, stop=10, pause=2): \n",
    "      if j.count('wiki')==0:\n",
    "          urls.append(j)\n",
    "  return urls\n",
    "urls=get_url(\"Farmer bill protest\")\n",
    "print(len(urls))"
   ]
  },
  {
   "cell_type": "code",
   "execution_count": 6,
   "metadata": {
    "colab": {
     "base_uri": "https://localhost:8080/",
     "height": 810,
     "referenced_widgets": [
      "6ce3e79f7d1345d19aa960f5e27f0c75",
      "c3a0a880b6244524bfb9698b6bb55f29",
      "05b603af77ea4eeb9a8b7902ede2ae2e",
      "7bea5144850942b0a326802658241b1a",
      "29cab613113340a39d654a544bdbfc17",
      "9db5bbdb035142fcb850a986f20dc1b4",
      "4cc92ebf6d1d4a7194069e66cee928db",
      "01ca651d0b9b49bbb9f35f3e70c10249",
      "5912785de72143c9a6be91b9cc4b3b12",
      "59302b7afefe409d9adbf42df3e39e9c",
      "69670384b83c4d0390ead23575892666",
      "9d15458019374728a9e4c52e9ea615d6",
      "c959b0d4465546a3ae29ba3da8f10064",
      "01f0363e89ab48eca9c47aff0d2409ae",
      "ab6c52bd801b40289dc9330766355028",
      "4d829547c00945c5bd141f0a155d4efc",
      "b7744bfa8a8d4b37ab497d07f5ae9a9d",
      "0774c60a0d724fe7afe3037f6a3ba638",
      "ab3f00a03aec4f238f5fa54b28b66629",
      "bf47440e62694facba16a294a65b6b3c",
      "72d8b6d2069240b28f108d51b6203f4c",
      "4ad040e1faad495290bdea5620e56e7f",
      "d470147442c74746ae08de0aaa5e5a3c",
      "7856a52e37b446e6a93d63af95135599"
     ]
    },
    "id": "PBU5fj-QcgHu",
    "outputId": "fafcb24e-d962-4a59-eaf4-eaa335c914ea"
   },
   "outputs": [
    {
     "data": {
      "application/vnd.jupyter.widget-view+json": {
       "model_id": "6ce3e79f7d1345d19aa960f5e27f0c75",
       "version_major": 2,
       "version_minor": 0
      },
      "text/plain": [
       "HBox(children=(FloatProgress(value=0.0, description='Downloading', max=434.0, style=ProgressStyle(description_…"
      ]
     },
     "metadata": {
      "tags": []
     },
     "output_type": "display_data"
    },
    {
     "name": "stdout",
     "output_type": "stream",
     "text": [
      "\n"
     ]
    },
    {
     "data": {
      "application/vnd.jupyter.widget-view+json": {
       "model_id": "5912785de72143c9a6be91b9cc4b3b12",
       "version_major": 2,
       "version_minor": 0
      },
      "text/plain": [
       "HBox(children=(FloatProgress(value=0.0, description='Downloading', max=1344997306.0, style=ProgressStyle(descr…"
      ]
     },
     "metadata": {
      "tags": []
     },
     "output_type": "display_data"
    },
    {
     "name": "stdout",
     "output_type": "stream",
     "text": [
      "\n"
     ]
    },
    {
     "data": {
      "application/vnd.jupyter.widget-view+json": {
       "model_id": "b7744bfa8a8d4b37ab497d07f5ae9a9d",
       "version_major": 2,
       "version_minor": 0
      },
      "text/plain": [
       "HBox(children=(FloatProgress(value=0.0, description='Downloading', max=231508.0, style=ProgressStyle(descripti…"
      ]
     },
     "metadata": {
      "tags": []
     },
     "output_type": "display_data"
    },
    {
     "name": "stdout",
     "output_type": "stream",
     "text": [
      "\n",
      "summary\n",
      "At the protest Singhu border where farmers are protesting against the farm laws, in New Delhi on Tuesday. ( BKU (Dakuanda) general secretary Jagmohan Singh Patiala explains point-by-point why farmers are objecting to Centre’s offer. So, the Centre is not ready to take any responsibility on this issue. This is also being proposed under the pressures of farmer organisations. In such cases farmers are unable to repay the loans and have no option other than to sell/lose their lands. Even in the USA, where huge subsidies are given for the agriculture sector the farmers are forced to commit suicides.” Therefore the Modi government wants to bring the power sector under the central control. ”Centre’s proposal: Willing to amend law on controlling NCR pollutionFarmers’ objection: “Union government thinks that stubble burning of paddy is responsible for pollution in Delhi and so they have enacted a legislation of stringent punishments and heavy fines up to Rs 1 crore for the alleged violators.\n",
      "by = https://indianexpress.com/article/explained/government-farmer-talks-deadlock-explained-7106698/\n",
      "**************************************************\n",
      "summary\n",
      "Farmer protest outside national capital New Delhi | Photo Credit: Times NowKey Highlights Since 26 November, farmers from Punjab and Haryana have laid siege to the national capital. The farmers are protesting against 2 Farm Bills that the Rajya Sabha recently passed: (1) the Farmers’ Produce Trade and Commerce (Promotion and Facilitation) Bill, 2020, and (2) the Farmers (Empowerment and Protection) Agreement on Price Assurance and Farm Services Bill, 2020.The two bills had already cleared the lower house – the Lok Sabha. The APMCs are government-controlled marketing yards or mandis. The farmer and an ordained buyer can strike a deal before the production happens. State governments are prohibited from levying any market fee, cess or levy outside APMC areas. Why has the Centre not reached out?The Central ministers and Prime Minister Narendra Modi have tried reassuring the farmers that the government has no plans to end the government procurement system nor the MSP policy. But fear, misconceptions persist and the two sparring parties have not had meaningful negotiations. Why are the farmers upset?The farmers of Uttar Pradesh, Punjab, and Haryana are angry with the provisions of these Bills as they are afraid that these Bills may be the platform that the government (at the Centre) is setting up for the replacement or scrapping of the otherwise robust support system prevalent in their states for the purchase of their crops. The state-government driven crop produce procurement infrastructure in these areas is very good.\n",
      "by = https://www.timesnownews.com/india/article/what-is-the-farm-bill-and-why-are-farmers-protesting-against-it/689215\n",
      "**************************************************\n",
      "summary\n",
      "Key provisions of the lawsThe key provisions of new farm laws are intended to help small and marginal farmers (86% of total farmers) who donât have means to either bargain for their produce to get a better price or invest in technology to improve the productivity of farms. The Act on Agri market allows farmers to sell their produce outside APMC âmandisâ to whoever they want. Anyone can buy their produce even at their farm gates. What the government saysThe three farm laws have been projected by the government as major reforms in the agriculture sector that will remove middlemen and allow farmers to sell anywhere in the country. The 'Bharat Bandh' has been called by the farmers unions who have been protesting the three farm laws enacted in the Monsoon Session of Parliament. Major political parties on Sunday came out in strong support of the bandh.\n",
      "by = https://timesofindia.indiatimes.com/india/what-are-new-farm-laws-and-and-why-farmers-are-protesting/articleshow/79609234.cms\n",
      "**************************************************\n",
      "summary\n",
      "Farmers shout slogans during their 'Delhi Chalo' protest march against the Centre's new farm laws, at Singhu border on December 2, 2020 in New Delhi, India. India's parliament passed three contentious bills in September. Agriculture is the primary source of livelihood for about 58% of India's population but accounts for around 15% of GDP.Three farm reform billsThe first one would allow farmers to sell their produce directly to traders and companies, including supermarkets and online grocers, as well as to retail customers — whoever offers a higher price. Anecdotal evidence shows that free market prices are generally lower than the designated (minimum support prices). It will allow buyers to purchase, store and distribute food items such as like cereals, pulses, onions, potatoes, oils without restriction. The government said it expects this to help drive up investments and modernization of the food supply chain. Many farmers have fallen into debt that's led to a rise in farmer suicides in recent years. The worry is that if MSPs are dropped, large corporations could potentially set prices that would put farmers at a further disadvantage.\n",
      "by = https://www.cnbc.com/2020/12/03/why-india-farmers-are-protesting-three-farm-reform-bills.html\n",
      "**************************************************\n",
      "summary\n",
      "NEW DELHI (Reuters) - Thousands of Indian farmers angered by farm laws that they say threaten their livelihoods have intensified their protests by blocking highways and camping out on the outskirts of the capital Delhi. Higher production puts pressure on the FCI to buy extra supplies from farmers, resulting in overflowing state warehouses and a ballooning subsidy bill that often pushes up the budget deficit. Despite sitting on massive mounds of rice and wheat, the FCI finds it challenging to export as the annual rise in MSPs and its own storage costs make FCI’s rice and wheat more expensive than world prices, making overseas sales uneconomic. While Punjab and Haryana sell almost their entire rice and wheat output to FCI, the government agency’s procurement in Bihar has remained at less than 2% of the state’s total production.\n",
      "by = https://www.reuters.com/article/india-farms-protests-explainer/explainer-indias-multi-billion-dollar-food-programme-is-at-the-heart-of-farmers-protests-idUSKBN28E1VK\n",
      "**************************************************\n",
      "summary\n",
      "NEW DELHI (Reuters) - India’s Supreme Court on Friday declined calls to ban a weeks-long farmers’ protest and asked the government and unions to help form a committee of experts to mediate between them. Prime Minister Narendra Modi’s administration in September introduced the farm bills that the government says will unshackle farmers from having to sell their produce only at regulated wholesale markets and make contract farming easier.\n",
      "by = https://www.reuters.com/article/india-farm-protests/supreme-court-declines-calls-to-ban-farmers-protest-idUSKBN28R2DL\n",
      "**************************************************\n",
      "summary\n",
      "Farmers in several Indian states are protesting against three new bills the government says will open up the tightly-controlled agriculture sector to free-market forces. Rashpinder Singh, a farmerThe main opposition Congress party has called the bills “black law” and “pro-corporate”. For decades, the Indian farmer was bound by various constraints and bullied by middlemen. Farmers, particularly in the states of Punjab and Haryana, have protested against the government move [Narinder Nanu/AFP] The new laws give farmers additional choices to sell their produce anywhere in the country, in contrast to the earlier situation where inter-state trade was not allowed. State governments, which earn an income through transactions at mandis, stand to lose out on tax revenues as trade moves out of state or into the domain of private deals. It is preposterous to believe that farmers who have small land-holdings will have any bargaining power over private players. Harvinder Singh Lakhowal, 53, member of the Bhartiya Kisan Union, the group spearheading agitation against the bills in Punjab[Photo courtesy: Harvinder Singh Lakhowal] All assurances given by the government regarding the MSP have not been provided to farmers in writing, they are all verbal assurances. If a farmer gets into a dispute regarding her/his contract with a private company, it will be very difficult for the farmer to have the dispute settled in her/his favour. Agriculture has been deliberately kept improvised. Farmers have now the freedom to sell the crops to anyone. There is a lack of regulatory oversight and price-setting body. The farmers in the states of Punjab and Haryana are worried that these bills are only the beginning of something larger.\n",
      "by = https://www.aljazeera.com/news/2020/9/23/why-are-indian-farmers-protesting-against-new-farm-bills\n",
      "**************************************************\n",
      "summary\n",
      "Indian prime minister says agrarian reforms aim to help farmers as thousands continue to rally near the capital. “Reforms will help draw investment in agriculture and benefit farmers, ” Modi said at the annual meeting of the Federation of Indian Chambers of Commerce and Industry in New Delhi on Saturday. At least 30 farmer unions are actively protesting against the new laws. More than 85 percent of farmers have less than two hectares (five acres) of land.\n",
      "by = https://www.aljazeera.com/news/2020/12/12/indias-modi-says-government-committed-to-farmers-welfare\n",
      "**************************************************\n",
      "summary\n",
      "India's farmers are mostly small or marginal: 68% of them own less than one hectare of land. Only 6% of them actually receive guaranteed price support for their crops, and more than 90% of the farmers sell their produce in the market.\n",
      "by = https://www.bbc.com/news/world-asia-india-55157574\n",
      "**************************************************\n"
     ]
    }
   ],
   "source": [
    "ext_data={\"Summary\":[],\"Source\":[],\"SS\":[],\"Label\":[]}\n",
    "\n",
    "for i in urls:\n",
    "  summary=get_summary(i,1)\n",
    "  s=sentiment(summary)\n",
    "  print(f\"summary\\n{summary}\\nby = {i}\")\n",
    "  ext_data['Summary'].append(summary)\n",
    "  ext_data['Source'].append(i)\n",
    "  ext_data['SS'].append(s[0]['label'])\n",
    "  ext_data['Label'].append(s[0]['score'])\n",
    "  print('*'*50)\n"
   ]
  },
  {
   "cell_type": "code",
   "execution_count": 13,
   "metadata": {
    "id": "Rv0J0HfjiKsf"
   },
   "outputs": [],
   "source": [
    "import pandas as pd\n",
    "pd.DataFrame.from_dict(ext_data).to_csv(\"ext_summary.csv\")"
   ]
  },
  {
   "cell_type": "markdown",
   "metadata": {
    "id": "16z4gOACnEty"
   },
   "source": [
    "**<h2> Abstractive </h2>**"
   ]
  },
  {
   "cell_type": "code",
   "execution_count": 12,
   "metadata": {
    "colab": {
     "base_uri": "https://localhost:8080/"
    },
    "id": "RxDd_MgW75Nt",
    "outputId": "d39564a7-8d86-44d6-fc66-7511d93dfea8"
   },
   "outputs": [
    {
     "name": "stdout",
     "output_type": "stream",
     "text": [
      "summary\n",
      "<pad> farmer unions lost no time in rejecting the amendments proposed by the Union government to the current farm laws. creation of private mandis along with the state-run agriculture produce market committees (APMC) will push all agriculture businesses towards private markets.\n",
      "by = https://indianexpress.com/article/explained/government-farmer-talks-deadlock-explained-7106698/\n",
      "sentiment = [{'label': 'POSITIVE', 'score': 0.9189099669456482}]\n",
      "**************************************************\n",
      "summary\n",
      "<pad> farmers from Punjab and Haryana have laid siege to the national capital. they are protesting against recently passed Farm Bills. farmers fear that this may be an excuse to pull off the MSP safety net.\n",
      "by = https://www.timesnownews.com/india/article/what-is-the-farm-bill-and-why-are-farmers-protesting-against-it/689215\n",
      "sentiment = [{'label': 'NEGATIVE', 'score': 0.9960730075836182}]\n",
      "**************************************************\n",
      "summary\n",
      "<pad> the Act on Agri market allows farmers to sell their produce outside APMC â<unk>mandisâ<unk> to whoever they want. farmers will get better prices through competition and cost-cutting on transportation. the law on contract farming allows farmers to enter into a contract with agri-business firms or large retailers on pre-agreed prices of their produce.\n",
      "by = https://timesofindia.indiatimes.com/india/what-are-new-farm-laws-and-and-why-farmers-are-protesting/articleshow/79609234.cms\n",
      "sentiment = [{'label': 'NEGATIVE', 'score': 0.9921111464500427}]\n",
      "**************************************************\n",
      "summary\n",
      "<pad> government officials in india are set to meet with farmer representatives on Thursday for the fourth time in a bid to resolve grievances on farm reforms. tens of thousands of farmers, most of them from northern states of Punjab and Haryana, have taken to the streets in protest against the farm reforms that were enacted into law this year.\n",
      "by = https://www.cnbc.com/2020/12/03/why-india-farmers-are-protesting-three-farm-reform-bills.html\n",
      "sentiment = [{'label': 'NEGATIVE', 'score': 0.8610512018203735}]\n",
      "**************************************************\n",
      "summary\n",
      "<pad> farmers have intensified their protests by blocking highways and camping out on the outskirts of the capital Delhi. government and farmers' unions have held several rounds of talks but have not made any progress in breaking the deadlock over the set of laws passed by parliament in September.\n",
      "by = https://www.reuters.com/article/india-farms-protests-explainer/explainer-indias-multi-billion-dollar-food-programme-is-at-the-heart-of-farmers-protests-idUSKBN28E1VK\n",
      "sentiment = [{'label': 'NEGATIVE', 'score': 0.9953015446662903}]\n",
      "**************************************************\n",
      "summary\n",
      "<pad> farmers angered by three agricultural laws have intensified their protests. protesters had approached the court to complain that the protests had hampered drivers and making it difficult for people to access emergency medical services. farmers insist that the new laws will leave them at the mercy of big corporations.\n",
      "by = https://www.reuters.com/article/india-farm-protests/supreme-court-declines-calls-to-ban-farmers-protest-idUSKBN28R2DL\n",
      "sentiment = [{'label': 'NEGATIVE', 'score': 0.995685338973999}]\n",
      "**************************************************\n",
      "summary\n",
      "<pad> farmers in several states are protesting against three new bills. the government says it will open up the tightly-controlled agriculture sector to free-market forces. the laws will also allow traders to stock food items.\n",
      "by = https://www.aljazeera.com/news/2020/9/23/why-are-indian-farmers-protesting-against-new-farm-bills\n",
      "sentiment = [{'label': 'POSITIVE', 'score': 0.7495368123054504}]\n",
      "**************************************************\n",
      "summary\n",
      "<pad> agrarian reforms aim to help farmers, says prime minister Narendra modi. farmers continue protests against three new laws to overhaul procurement and sale of produce. at least 30 farmer unions are actively protesting against the new laws.\n",
      "by = https://www.aljazeera.com/news/2020/12/12/indias-modi-says-government-committed-to-farmers-welfare\n",
      "sentiment = [{'label': 'NEGATIVE', 'score': 0.8780645728111267}]\n",
      "**************************************************\n",
      "summary\n",
      "<pad> india's farmers are mostly small or marginal: 68% of them own less than one hectare of land. only 6% of them receive guaranteed price support for their crops. the populous and poor northern state of Bihar has allowed unrestricted private trade of crops.\n",
      "by = https://www.bbc.com/news/world-asia-india-55157574\n",
      "sentiment = [{'label': 'NEGATIVE', 'score': 0.9941757917404175}]\n",
      "**************************************************\n"
     ]
    }
   ],
   "source": [
    "abstractive_data={\"Summary\":[],\"Source\":[],\"SS\":[],\"Label\":[]}\n",
    "for i in urls:\n",
    "    summary = get_summary(i,0)\n",
    "    s = sentiment(summary)\n",
    "    print(f\"summary\\n{summary}\\nby = {i}\\nsentiment = {s}\")\n",
    "    abstractive_data['Summary'].append(summary)\n",
    "    abstractive_data['Source'].append(i)\n",
    "    abstractive_data['SS'].append(s[0]['label'])\n",
    "    abstractive_data['Label'].append(s[0]['score'])\n",
    "    print('*'*50)"
   ]
  },
  {
   "cell_type": "code",
   "execution_count": null,
   "metadata": {
    "id": "w8at0-QK--Ji"
   },
   "outputs": [],
   "source": []
  }
 ],
 "metadata": {
  "colab": {
   "name": "WebPage-Extraction",
   "provenance": []
  },
  "kernelspec": {
   "display_name": "Python 3",
   "language": "python",
   "name": "python3"
  },
  "language_info": {
   "codemirror_mode": {
    "name": "ipython",
    "version": 3
   },
   "file_extension": ".py",
   "mimetype": "text/x-python",
   "name": "python",
   "nbconvert_exporter": "python",
   "pygments_lexer": "ipython3",
   "version": "3.8.5"
  },
  "widgets": {
   "application/vnd.jupyter.widget-state+json": {
    "01ca651d0b9b49bbb9f35f3e70c10249": {
     "model_module": "@jupyter-widgets/base",
     "model_name": "LayoutModel",
     "state": {
      "_model_module": "@jupyter-widgets/base",
      "_model_module_version": "1.2.0",
      "_model_name": "LayoutModel",
      "_view_count": null,
      "_view_module": "@jupyter-widgets/base",
      "_view_module_version": "1.2.0",
      "_view_name": "LayoutView",
      "align_content": null,
      "align_items": null,
      "align_self": null,
      "border": null,
      "bottom": null,
      "display": null,
      "flex": null,
      "flex_flow": null,
      "grid_area": null,
      "grid_auto_columns": null,
      "grid_auto_flow": null,
      "grid_auto_rows": null,
      "grid_column": null,
      "grid_gap": null,
      "grid_row": null,
      "grid_template_areas": null,
      "grid_template_columns": null,
      "grid_template_rows": null,
      "height": null,
      "justify_content": null,
      "justify_items": null,
      "left": null,
      "margin": null,
      "max_height": null,
      "max_width": null,
      "min_height": null,
      "min_width": null,
      "object_fit": null,
      "object_position": null,
      "order": null,
      "overflow": null,
      "overflow_x": null,
      "overflow_y": null,
      "padding": null,
      "right": null,
      "top": null,
      "visibility": null,
      "width": null
     }
    },
    "01f0363e89ab48eca9c47aff0d2409ae": {
     "model_module": "@jupyter-widgets/base",
     "model_name": "LayoutModel",
     "state": {
      "_model_module": "@jupyter-widgets/base",
      "_model_module_version": "1.2.0",
      "_model_name": "LayoutModel",
      "_view_count": null,
      "_view_module": "@jupyter-widgets/base",
      "_view_module_version": "1.2.0",
      "_view_name": "LayoutView",
      "align_content": null,
      "align_items": null,
      "align_self": null,
      "border": null,
      "bottom": null,
      "display": null,
      "flex": null,
      "flex_flow": null,
      "grid_area": null,
      "grid_auto_columns": null,
      "grid_auto_flow": null,
      "grid_auto_rows": null,
      "grid_column": null,
      "grid_gap": null,
      "grid_row": null,
      "grid_template_areas": null,
      "grid_template_columns": null,
      "grid_template_rows": null,
      "height": null,
      "justify_content": null,
      "justify_items": null,
      "left": null,
      "margin": null,
      "max_height": null,
      "max_width": null,
      "min_height": null,
      "min_width": null,
      "object_fit": null,
      "object_position": null,
      "order": null,
      "overflow": null,
      "overflow_x": null,
      "overflow_y": null,
      "padding": null,
      "right": null,
      "top": null,
      "visibility": null,
      "width": null
     }
    },
    "05b603af77ea4eeb9a8b7902ede2ae2e": {
     "model_module": "@jupyter-widgets/controls",
     "model_name": "FloatProgressModel",
     "state": {
      "_dom_classes": [],
      "_model_module": "@jupyter-widgets/controls",
      "_model_module_version": "1.5.0",
      "_model_name": "FloatProgressModel",
      "_view_count": null,
      "_view_module": "@jupyter-widgets/controls",
      "_view_module_version": "1.5.0",
      "_view_name": "ProgressView",
      "bar_style": "success",
      "description": "Downloading: 100%",
      "description_tooltip": null,
      "layout": "IPY_MODEL_9db5bbdb035142fcb850a986f20dc1b4",
      "max": 434,
      "min": 0,
      "orientation": "horizontal",
      "style": "IPY_MODEL_29cab613113340a39d654a544bdbfc17",
      "value": 434
     }
    },
    "0774c60a0d724fe7afe3037f6a3ba638": {
     "model_module": "@jupyter-widgets/base",
     "model_name": "LayoutModel",
     "state": {
      "_model_module": "@jupyter-widgets/base",
      "_model_module_version": "1.2.0",
      "_model_name": "LayoutModel",
      "_view_count": null,
      "_view_module": "@jupyter-widgets/base",
      "_view_module_version": "1.2.0",
      "_view_name": "LayoutView",
      "align_content": null,
      "align_items": null,
      "align_self": null,
      "border": null,
      "bottom": null,
      "display": null,
      "flex": null,
      "flex_flow": null,
      "grid_area": null,
      "grid_auto_columns": null,
      "grid_auto_flow": null,
      "grid_auto_rows": null,
      "grid_column": null,
      "grid_gap": null,
      "grid_row": null,
      "grid_template_areas": null,
      "grid_template_columns": null,
      "grid_template_rows": null,
      "height": null,
      "justify_content": null,
      "justify_items": null,
      "left": null,
      "margin": null,
      "max_height": null,
      "max_width": null,
      "min_height": null,
      "min_width": null,
      "object_fit": null,
      "object_position": null,
      "order": null,
      "overflow": null,
      "overflow_x": null,
      "overflow_y": null,
      "padding": null,
      "right": null,
      "top": null,
      "visibility": null,
      "width": null
     }
    },
    "29cab613113340a39d654a544bdbfc17": {
     "model_module": "@jupyter-widgets/controls",
     "model_name": "ProgressStyleModel",
     "state": {
      "_model_module": "@jupyter-widgets/controls",
      "_model_module_version": "1.5.0",
      "_model_name": "ProgressStyleModel",
      "_view_count": null,
      "_view_module": "@jupyter-widgets/base",
      "_view_module_version": "1.2.0",
      "_view_name": "StyleView",
      "bar_color": null,
      "description_width": "initial"
     }
    },
    "4ad040e1faad495290bdea5620e56e7f": {
     "model_module": "@jupyter-widgets/base",
     "model_name": "LayoutModel",
     "state": {
      "_model_module": "@jupyter-widgets/base",
      "_model_module_version": "1.2.0",
      "_model_name": "LayoutModel",
      "_view_count": null,
      "_view_module": "@jupyter-widgets/base",
      "_view_module_version": "1.2.0",
      "_view_name": "LayoutView",
      "align_content": null,
      "align_items": null,
      "align_self": null,
      "border": null,
      "bottom": null,
      "display": null,
      "flex": null,
      "flex_flow": null,
      "grid_area": null,
      "grid_auto_columns": null,
      "grid_auto_flow": null,
      "grid_auto_rows": null,
      "grid_column": null,
      "grid_gap": null,
      "grid_row": null,
      "grid_template_areas": null,
      "grid_template_columns": null,
      "grid_template_rows": null,
      "height": null,
      "justify_content": null,
      "justify_items": null,
      "left": null,
      "margin": null,
      "max_height": null,
      "max_width": null,
      "min_height": null,
      "min_width": null,
      "object_fit": null,
      "object_position": null,
      "order": null,
      "overflow": null,
      "overflow_x": null,
      "overflow_y": null,
      "padding": null,
      "right": null,
      "top": null,
      "visibility": null,
      "width": null
     }
    },
    "4cc92ebf6d1d4a7194069e66cee928db": {
     "model_module": "@jupyter-widgets/controls",
     "model_name": "DescriptionStyleModel",
     "state": {
      "_model_module": "@jupyter-widgets/controls",
      "_model_module_version": "1.5.0",
      "_model_name": "DescriptionStyleModel",
      "_view_count": null,
      "_view_module": "@jupyter-widgets/base",
      "_view_module_version": "1.2.0",
      "_view_name": "StyleView",
      "description_width": ""
     }
    },
    "4d829547c00945c5bd141f0a155d4efc": {
     "model_module": "@jupyter-widgets/base",
     "model_name": "LayoutModel",
     "state": {
      "_model_module": "@jupyter-widgets/base",
      "_model_module_version": "1.2.0",
      "_model_name": "LayoutModel",
      "_view_count": null,
      "_view_module": "@jupyter-widgets/base",
      "_view_module_version": "1.2.0",
      "_view_name": "LayoutView",
      "align_content": null,
      "align_items": null,
      "align_self": null,
      "border": null,
      "bottom": null,
      "display": null,
      "flex": null,
      "flex_flow": null,
      "grid_area": null,
      "grid_auto_columns": null,
      "grid_auto_flow": null,
      "grid_auto_rows": null,
      "grid_column": null,
      "grid_gap": null,
      "grid_row": null,
      "grid_template_areas": null,
      "grid_template_columns": null,
      "grid_template_rows": null,
      "height": null,
      "justify_content": null,
      "justify_items": null,
      "left": null,
      "margin": null,
      "max_height": null,
      "max_width": null,
      "min_height": null,
      "min_width": null,
      "object_fit": null,
      "object_position": null,
      "order": null,
      "overflow": null,
      "overflow_x": null,
      "overflow_y": null,
      "padding": null,
      "right": null,
      "top": null,
      "visibility": null,
      "width": null
     }
    },
    "5912785de72143c9a6be91b9cc4b3b12": {
     "model_module": "@jupyter-widgets/controls",
     "model_name": "HBoxModel",
     "state": {
      "_dom_classes": [],
      "_model_module": "@jupyter-widgets/controls",
      "_model_module_version": "1.5.0",
      "_model_name": "HBoxModel",
      "_view_count": null,
      "_view_module": "@jupyter-widgets/controls",
      "_view_module_version": "1.5.0",
      "_view_name": "HBoxView",
      "box_style": "",
      "children": [
       "IPY_MODEL_69670384b83c4d0390ead23575892666",
       "IPY_MODEL_9d15458019374728a9e4c52e9ea615d6"
      ],
      "layout": "IPY_MODEL_59302b7afefe409d9adbf42df3e39e9c"
     }
    },
    "59302b7afefe409d9adbf42df3e39e9c": {
     "model_module": "@jupyter-widgets/base",
     "model_name": "LayoutModel",
     "state": {
      "_model_module": "@jupyter-widgets/base",
      "_model_module_version": "1.2.0",
      "_model_name": "LayoutModel",
      "_view_count": null,
      "_view_module": "@jupyter-widgets/base",
      "_view_module_version": "1.2.0",
      "_view_name": "LayoutView",
      "align_content": null,
      "align_items": null,
      "align_self": null,
      "border": null,
      "bottom": null,
      "display": null,
      "flex": null,
      "flex_flow": null,
      "grid_area": null,
      "grid_auto_columns": null,
      "grid_auto_flow": null,
      "grid_auto_rows": null,
      "grid_column": null,
      "grid_gap": null,
      "grid_row": null,
      "grid_template_areas": null,
      "grid_template_columns": null,
      "grid_template_rows": null,
      "height": null,
      "justify_content": null,
      "justify_items": null,
      "left": null,
      "margin": null,
      "max_height": null,
      "max_width": null,
      "min_height": null,
      "min_width": null,
      "object_fit": null,
      "object_position": null,
      "order": null,
      "overflow": null,
      "overflow_x": null,
      "overflow_y": null,
      "padding": null,
      "right": null,
      "top": null,
      "visibility": null,
      "width": null
     }
    },
    "69670384b83c4d0390ead23575892666": {
     "model_module": "@jupyter-widgets/controls",
     "model_name": "FloatProgressModel",
     "state": {
      "_dom_classes": [],
      "_model_module": "@jupyter-widgets/controls",
      "_model_module_version": "1.5.0",
      "_model_name": "FloatProgressModel",
      "_view_count": null,
      "_view_module": "@jupyter-widgets/controls",
      "_view_module_version": "1.5.0",
      "_view_name": "ProgressView",
      "bar_style": "success",
      "description": "Downloading: 100%",
      "description_tooltip": null,
      "layout": "IPY_MODEL_01f0363e89ab48eca9c47aff0d2409ae",
      "max": 1344997306,
      "min": 0,
      "orientation": "horizontal",
      "style": "IPY_MODEL_c959b0d4465546a3ae29ba3da8f10064",
      "value": 1344997306
     }
    },
    "6ce3e79f7d1345d19aa960f5e27f0c75": {
     "model_module": "@jupyter-widgets/controls",
     "model_name": "HBoxModel",
     "state": {
      "_dom_classes": [],
      "_model_module": "@jupyter-widgets/controls",
      "_model_module_version": "1.5.0",
      "_model_name": "HBoxModel",
      "_view_count": null,
      "_view_module": "@jupyter-widgets/controls",
      "_view_module_version": "1.5.0",
      "_view_name": "HBoxView",
      "box_style": "",
      "children": [
       "IPY_MODEL_05b603af77ea4eeb9a8b7902ede2ae2e",
       "IPY_MODEL_7bea5144850942b0a326802658241b1a"
      ],
      "layout": "IPY_MODEL_c3a0a880b6244524bfb9698b6bb55f29"
     }
    },
    "72d8b6d2069240b28f108d51b6203f4c": {
     "model_module": "@jupyter-widgets/controls",
     "model_name": "ProgressStyleModel",
     "state": {
      "_model_module": "@jupyter-widgets/controls",
      "_model_module_version": "1.5.0",
      "_model_name": "ProgressStyleModel",
      "_view_count": null,
      "_view_module": "@jupyter-widgets/base",
      "_view_module_version": "1.2.0",
      "_view_name": "StyleView",
      "bar_color": null,
      "description_width": "initial"
     }
    },
    "7856a52e37b446e6a93d63af95135599": {
     "model_module": "@jupyter-widgets/base",
     "model_name": "LayoutModel",
     "state": {
      "_model_module": "@jupyter-widgets/base",
      "_model_module_version": "1.2.0",
      "_model_name": "LayoutModel",
      "_view_count": null,
      "_view_module": "@jupyter-widgets/base",
      "_view_module_version": "1.2.0",
      "_view_name": "LayoutView",
      "align_content": null,
      "align_items": null,
      "align_self": null,
      "border": null,
      "bottom": null,
      "display": null,
      "flex": null,
      "flex_flow": null,
      "grid_area": null,
      "grid_auto_columns": null,
      "grid_auto_flow": null,
      "grid_auto_rows": null,
      "grid_column": null,
      "grid_gap": null,
      "grid_row": null,
      "grid_template_areas": null,
      "grid_template_columns": null,
      "grid_template_rows": null,
      "height": null,
      "justify_content": null,
      "justify_items": null,
      "left": null,
      "margin": null,
      "max_height": null,
      "max_width": null,
      "min_height": null,
      "min_width": null,
      "object_fit": null,
      "object_position": null,
      "order": null,
      "overflow": null,
      "overflow_x": null,
      "overflow_y": null,
      "padding": null,
      "right": null,
      "top": null,
      "visibility": null,
      "width": null
     }
    },
    "7bea5144850942b0a326802658241b1a": {
     "model_module": "@jupyter-widgets/controls",
     "model_name": "HTMLModel",
     "state": {
      "_dom_classes": [],
      "_model_module": "@jupyter-widgets/controls",
      "_model_module_version": "1.5.0",
      "_model_name": "HTMLModel",
      "_view_count": null,
      "_view_module": "@jupyter-widgets/controls",
      "_view_module_version": "1.5.0",
      "_view_name": "HTMLView",
      "description": "",
      "description_tooltip": null,
      "layout": "IPY_MODEL_01ca651d0b9b49bbb9f35f3e70c10249",
      "placeholder": "​",
      "style": "IPY_MODEL_4cc92ebf6d1d4a7194069e66cee928db",
      "value": " 434/434 [00:45&lt;00:00, 9.59B/s]"
     }
    },
    "9d15458019374728a9e4c52e9ea615d6": {
     "model_module": "@jupyter-widgets/controls",
     "model_name": "HTMLModel",
     "state": {
      "_dom_classes": [],
      "_model_module": "@jupyter-widgets/controls",
      "_model_module_version": "1.5.0",
      "_model_name": "HTMLModel",
      "_view_count": null,
      "_view_module": "@jupyter-widgets/controls",
      "_view_module_version": "1.5.0",
      "_view_name": "HTMLView",
      "description": "",
      "description_tooltip": null,
      "layout": "IPY_MODEL_4d829547c00945c5bd141f0a155d4efc",
      "placeholder": "​",
      "style": "IPY_MODEL_ab6c52bd801b40289dc9330766355028",
      "value": " 1.34G/1.34G [00:38&lt;00:00, 34.8MB/s]"
     }
    },
    "9db5bbdb035142fcb850a986f20dc1b4": {
     "model_module": "@jupyter-widgets/base",
     "model_name": "LayoutModel",
     "state": {
      "_model_module": "@jupyter-widgets/base",
      "_model_module_version": "1.2.0",
      "_model_name": "LayoutModel",
      "_view_count": null,
      "_view_module": "@jupyter-widgets/base",
      "_view_module_version": "1.2.0",
      "_view_name": "LayoutView",
      "align_content": null,
      "align_items": null,
      "align_self": null,
      "border": null,
      "bottom": null,
      "display": null,
      "flex": null,
      "flex_flow": null,
      "grid_area": null,
      "grid_auto_columns": null,
      "grid_auto_flow": null,
      "grid_auto_rows": null,
      "grid_column": null,
      "grid_gap": null,
      "grid_row": null,
      "grid_template_areas": null,
      "grid_template_columns": null,
      "grid_template_rows": null,
      "height": null,
      "justify_content": null,
      "justify_items": null,
      "left": null,
      "margin": null,
      "max_height": null,
      "max_width": null,
      "min_height": null,
      "min_width": null,
      "object_fit": null,
      "object_position": null,
      "order": null,
      "overflow": null,
      "overflow_x": null,
      "overflow_y": null,
      "padding": null,
      "right": null,
      "top": null,
      "visibility": null,
      "width": null
     }
    },
    "ab3f00a03aec4f238f5fa54b28b66629": {
     "model_module": "@jupyter-widgets/controls",
     "model_name": "FloatProgressModel",
     "state": {
      "_dom_classes": [],
      "_model_module": "@jupyter-widgets/controls",
      "_model_module_version": "1.5.0",
      "_model_name": "FloatProgressModel",
      "_view_count": null,
      "_view_module": "@jupyter-widgets/controls",
      "_view_module_version": "1.5.0",
      "_view_name": "ProgressView",
      "bar_style": "success",
      "description": "Downloading: 100%",
      "description_tooltip": null,
      "layout": "IPY_MODEL_4ad040e1faad495290bdea5620e56e7f",
      "max": 231508,
      "min": 0,
      "orientation": "horizontal",
      "style": "IPY_MODEL_72d8b6d2069240b28f108d51b6203f4c",
      "value": 231508
     }
    },
    "ab6c52bd801b40289dc9330766355028": {
     "model_module": "@jupyter-widgets/controls",
     "model_name": "DescriptionStyleModel",
     "state": {
      "_model_module": "@jupyter-widgets/controls",
      "_model_module_version": "1.5.0",
      "_model_name": "DescriptionStyleModel",
      "_view_count": null,
      "_view_module": "@jupyter-widgets/base",
      "_view_module_version": "1.2.0",
      "_view_name": "StyleView",
      "description_width": ""
     }
    },
    "b7744bfa8a8d4b37ab497d07f5ae9a9d": {
     "model_module": "@jupyter-widgets/controls",
     "model_name": "HBoxModel",
     "state": {
      "_dom_classes": [],
      "_model_module": "@jupyter-widgets/controls",
      "_model_module_version": "1.5.0",
      "_model_name": "HBoxModel",
      "_view_count": null,
      "_view_module": "@jupyter-widgets/controls",
      "_view_module_version": "1.5.0",
      "_view_name": "HBoxView",
      "box_style": "",
      "children": [
       "IPY_MODEL_ab3f00a03aec4f238f5fa54b28b66629",
       "IPY_MODEL_bf47440e62694facba16a294a65b6b3c"
      ],
      "layout": "IPY_MODEL_0774c60a0d724fe7afe3037f6a3ba638"
     }
    },
    "bf47440e62694facba16a294a65b6b3c": {
     "model_module": "@jupyter-widgets/controls",
     "model_name": "HTMLModel",
     "state": {
      "_dom_classes": [],
      "_model_module": "@jupyter-widgets/controls",
      "_model_module_version": "1.5.0",
      "_model_name": "HTMLModel",
      "_view_count": null,
      "_view_module": "@jupyter-widgets/controls",
      "_view_module_version": "1.5.0",
      "_view_name": "HTMLView",
      "description": "",
      "description_tooltip": null,
      "layout": "IPY_MODEL_7856a52e37b446e6a93d63af95135599",
      "placeholder": "​",
      "style": "IPY_MODEL_d470147442c74746ae08de0aaa5e5a3c",
      "value": " 232k/232k [00:00&lt;00:00, 819kB/s]"
     }
    },
    "c3a0a880b6244524bfb9698b6bb55f29": {
     "model_module": "@jupyter-widgets/base",
     "model_name": "LayoutModel",
     "state": {
      "_model_module": "@jupyter-widgets/base",
      "_model_module_version": "1.2.0",
      "_model_name": "LayoutModel",
      "_view_count": null,
      "_view_module": "@jupyter-widgets/base",
      "_view_module_version": "1.2.0",
      "_view_name": "LayoutView",
      "align_content": null,
      "align_items": null,
      "align_self": null,
      "border": null,
      "bottom": null,
      "display": null,
      "flex": null,
      "flex_flow": null,
      "grid_area": null,
      "grid_auto_columns": null,
      "grid_auto_flow": null,
      "grid_auto_rows": null,
      "grid_column": null,
      "grid_gap": null,
      "grid_row": null,
      "grid_template_areas": null,
      "grid_template_columns": null,
      "grid_template_rows": null,
      "height": null,
      "justify_content": null,
      "justify_items": null,
      "left": null,
      "margin": null,
      "max_height": null,
      "max_width": null,
      "min_height": null,
      "min_width": null,
      "object_fit": null,
      "object_position": null,
      "order": null,
      "overflow": null,
      "overflow_x": null,
      "overflow_y": null,
      "padding": null,
      "right": null,
      "top": null,
      "visibility": null,
      "width": null
     }
    },
    "c959b0d4465546a3ae29ba3da8f10064": {
     "model_module": "@jupyter-widgets/controls",
     "model_name": "ProgressStyleModel",
     "state": {
      "_model_module": "@jupyter-widgets/controls",
      "_model_module_version": "1.5.0",
      "_model_name": "ProgressStyleModel",
      "_view_count": null,
      "_view_module": "@jupyter-widgets/base",
      "_view_module_version": "1.2.0",
      "_view_name": "StyleView",
      "bar_color": null,
      "description_width": "initial"
     }
    },
    "d470147442c74746ae08de0aaa5e5a3c": {
     "model_module": "@jupyter-widgets/controls",
     "model_name": "DescriptionStyleModel",
     "state": {
      "_model_module": "@jupyter-widgets/controls",
      "_model_module_version": "1.5.0",
      "_model_name": "DescriptionStyleModel",
      "_view_count": null,
      "_view_module": "@jupyter-widgets/base",
      "_view_module_version": "1.2.0",
      "_view_name": "StyleView",
      "description_width": ""
     }
    }
   }
  }
 },
 "nbformat": 4,
 "nbformat_minor": 1
}
